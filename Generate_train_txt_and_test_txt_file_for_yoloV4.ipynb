{
  "nbformat": 4,
  "nbformat_minor": 0,
  "metadata": {
    "colab": {
      "provenance": []
    },
    "kernelspec": {
      "name": "python3",
      "display_name": "Python 3"
    },
    "language_info": {
      "name": "python"
    }
  },
  "cells": [
    {
      "cell_type": "code",
      "execution_count": null,
      "metadata": {
        "id": "5TQ_XWoiGenS"
      },
      "outputs": [],
      "source": [
        "import glob\n",
        "import os\n",
        "import numpy as np\n",
        "import sys\n",
        "\n",
        "current_dir = \"/content/drive/MyDrive/Car_Image_Dataset/Train\"\n",
        "split_pct = 10;\n",
        "file_train = open(\"train.txt\", \"w\")  \n",
        "# file_val = open(\"test.txt\", \"w\")  \n",
        "counter = 1  \n",
        "index_test = round(100 / split_pct)  \n",
        "for pathAndFilename in glob.iglob(os.path.join(current_dir, \"*.jpg\")):  \n",
        "        title, ext = os.path.splitext(os.path.basename(pathAndFilename))\n",
        "        if counter == index_test:\n",
        "                counter = 1\n",
        "                file_train.write(current_dir + \"/\" + title + '.jpg' + \"\\n\")\n",
        "        else:\n",
        "                file_train.write(current_dir + \"/\" + title + '.jpg' + \"\\n\")\n",
        "                counter = counter + 1\n",
        "file_train.close()\n",
        "file_val.close()"
      ]
    }
  ]
}